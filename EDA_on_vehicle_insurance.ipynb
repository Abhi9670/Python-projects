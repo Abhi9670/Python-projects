{
 "cells": [
  {
   "cell_type": "code",
   "execution_count": 1,
   "id": "d866f9f1",
   "metadata": {},
   "outputs": [
    {
     "name": "stdout",
     "output_type": "stream",
     "text": [
      "     0       1     2    3     4    5          6    7\n",
      "0  1.0    Male  44.0  1.0  28.0  0.0  > 2 Years  Yes\n",
      "1  2.0    Male  76.0  1.0   3.0  0.0   1-2 Year   No\n",
      "2  3.0    Male  47.0  1.0  28.0  0.0  > 2 Years  Yes\n",
      "3  4.0    Male  21.0  1.0  11.0  1.0   < 1 Year   No\n",
      "4  5.0  Female  29.0  1.0  41.0  1.0   < 1 Year   No\n",
      "     0        1      2      3    4\n",
      "0  1.0  40454.0   26.0  217.0  1.0\n",
      "1  2.0  33536.0   26.0  183.0  0.0\n",
      "2  3.0  38294.0   26.0   27.0  1.0\n",
      "3  4.0  28619.0  152.0  203.0  0.0\n",
      "4  5.0  27496.0  152.0   39.0  0.0\n"
     ]
    }
   ],
   "source": [
    "import pandas as pd\n",
    "import numpy as np\n",
    "table1=pd.read_csv('customer_details.csv.crdownload')\n",
    "table2=pd.read_csv('customer_policy_details.csv')\n",
    "print(table1.head())\n",
    "print(table2.head())"
   ]
  },
  {
   "cell_type": "code",
   "execution_count": 2,
   "id": "a37d5b88",
   "metadata": {},
   "outputs": [
    {
     "data": {
      "text/html": [
       "<div>\n",
       "<style scoped>\n",
       "    .dataframe tbody tr th:only-of-type {\n",
       "        vertical-align: middle;\n",
       "    }\n",
       "\n",
       "    .dataframe tbody tr th {\n",
       "        vertical-align: top;\n",
       "    }\n",
       "\n",
       "    .dataframe thead th {\n",
       "        text-align: right;\n",
       "    }\n",
       "</style>\n",
       "<table border=\"1\" class=\"dataframe\">\n",
       "  <thead>\n",
       "    <tr style=\"text-align: right;\">\n",
       "      <th></th>\n",
       "      <th>customer_id</th>\n",
       "      <th>Gender</th>\n",
       "      <th>Age</th>\n",
       "      <th>Driving_liscense_presence</th>\n",
       "      <th>region_code</th>\n",
       "      <th>Previously_insure</th>\n",
       "      <th>vehicle_age</th>\n",
       "      <th>vehicle_damaged</th>\n",
       "    </tr>\n",
       "  </thead>\n",
       "  <tbody>\n",
       "    <tr>\n",
       "      <th>0</th>\n",
       "      <td>1.0</td>\n",
       "      <td>Male</td>\n",
       "      <td>44.0</td>\n",
       "      <td>1.0</td>\n",
       "      <td>28.0</td>\n",
       "      <td>0.0</td>\n",
       "      <td>&gt; 2 Years</td>\n",
       "      <td>Yes</td>\n",
       "    </tr>\n",
       "    <tr>\n",
       "      <th>1</th>\n",
       "      <td>2.0</td>\n",
       "      <td>Male</td>\n",
       "      <td>76.0</td>\n",
       "      <td>1.0</td>\n",
       "      <td>3.0</td>\n",
       "      <td>0.0</td>\n",
       "      <td>1-2 Year</td>\n",
       "      <td>No</td>\n",
       "    </tr>\n",
       "    <tr>\n",
       "      <th>2</th>\n",
       "      <td>3.0</td>\n",
       "      <td>Male</td>\n",
       "      <td>47.0</td>\n",
       "      <td>1.0</td>\n",
       "      <td>28.0</td>\n",
       "      <td>0.0</td>\n",
       "      <td>&gt; 2 Years</td>\n",
       "      <td>Yes</td>\n",
       "    </tr>\n",
       "    <tr>\n",
       "      <th>3</th>\n",
       "      <td>4.0</td>\n",
       "      <td>Male</td>\n",
       "      <td>21.0</td>\n",
       "      <td>1.0</td>\n",
       "      <td>11.0</td>\n",
       "      <td>1.0</td>\n",
       "      <td>&lt; 1 Year</td>\n",
       "      <td>No</td>\n",
       "    </tr>\n",
       "    <tr>\n",
       "      <th>4</th>\n",
       "      <td>5.0</td>\n",
       "      <td>Female</td>\n",
       "      <td>29.0</td>\n",
       "      <td>1.0</td>\n",
       "      <td>41.0</td>\n",
       "      <td>1.0</td>\n",
       "      <td>&lt; 1 Year</td>\n",
       "      <td>No</td>\n",
       "    </tr>\n",
       "    <tr>\n",
       "      <th>...</th>\n",
       "      <td>...</td>\n",
       "      <td>...</td>\n",
       "      <td>...</td>\n",
       "      <td>...</td>\n",
       "      <td>...</td>\n",
       "      <td>...</td>\n",
       "      <td>...</td>\n",
       "      <td>...</td>\n",
       "    </tr>\n",
       "    <tr>\n",
       "      <th>124584</th>\n",
       "      <td>124585.0</td>\n",
       "      <td>Female</td>\n",
       "      <td>50.0</td>\n",
       "      <td>1.0</td>\n",
       "      <td>13.0</td>\n",
       "      <td>0.0</td>\n",
       "      <td>1-2 Year</td>\n",
       "      <td>Yes</td>\n",
       "    </tr>\n",
       "    <tr>\n",
       "      <th>124585</th>\n",
       "      <td>124586.0</td>\n",
       "      <td>Female</td>\n",
       "      <td>24.0</td>\n",
       "      <td>1.0</td>\n",
       "      <td>8.0</td>\n",
       "      <td>1.0</td>\n",
       "      <td>&lt; 1 Year</td>\n",
       "      <td>No</td>\n",
       "    </tr>\n",
       "    <tr>\n",
       "      <th>124586</th>\n",
       "      <td>124587.0</td>\n",
       "      <td>Male</td>\n",
       "      <td>24.0</td>\n",
       "      <td>1.0</td>\n",
       "      <td>36.0</td>\n",
       "      <td>1.0</td>\n",
       "      <td>&lt; 1 Year</td>\n",
       "      <td>No</td>\n",
       "    </tr>\n",
       "    <tr>\n",
       "      <th>124587</th>\n",
       "      <td>124588.0</td>\n",
       "      <td>Male</td>\n",
       "      <td>43.0</td>\n",
       "      <td>1.0</td>\n",
       "      <td>28.0</td>\n",
       "      <td>0.0</td>\n",
       "      <td>1-2 Year</td>\n",
       "      <td>No</td>\n",
       "    </tr>\n",
       "    <tr>\n",
       "      <th>124588</th>\n",
       "      <td>124589.0</td>\n",
       "      <td>Male</td>\n",
       "      <td>46.0</td>\n",
       "      <td>1.0</td>\n",
       "      <td>3.0</td>\n",
       "      <td>0.0</td>\n",
       "      <td>1-2 Year</td>\n",
       "      <td>Yes</td>\n",
       "    </tr>\n",
       "  </tbody>\n",
       "</table>\n",
       "<p>124589 rows × 8 columns</p>\n",
       "</div>"
      ],
      "text/plain": [
       "        customer_id  Gender   Age  Driving_liscense_presence  region_code  \\\n",
       "0               1.0    Male  44.0                        1.0         28.0   \n",
       "1               2.0    Male  76.0                        1.0          3.0   \n",
       "2               3.0    Male  47.0                        1.0         28.0   \n",
       "3               4.0    Male  21.0                        1.0         11.0   \n",
       "4               5.0  Female  29.0                        1.0         41.0   \n",
       "...             ...     ...   ...                        ...          ...   \n",
       "124584     124585.0  Female  50.0                        1.0         13.0   \n",
       "124585     124586.0  Female  24.0                        1.0          8.0   \n",
       "124586     124587.0    Male  24.0                        1.0         36.0   \n",
       "124587     124588.0    Male  43.0                        1.0         28.0   \n",
       "124588     124589.0    Male  46.0                        1.0          3.0   \n",
       "\n",
       "        Previously_insure vehicle_age vehicle_damaged  \n",
       "0                     0.0   > 2 Years             Yes  \n",
       "1                     0.0    1-2 Year              No  \n",
       "2                     0.0   > 2 Years             Yes  \n",
       "3                     1.0    < 1 Year              No  \n",
       "4                     1.0    < 1 Year              No  \n",
       "...                   ...         ...             ...  \n",
       "124584                0.0    1-2 Year             Yes  \n",
       "124585                1.0    < 1 Year              No  \n",
       "124586                1.0    < 1 Year              No  \n",
       "124587                0.0    1-2 Year              No  \n",
       "124588                0.0    1-2 Year             Yes  \n",
       "\n",
       "[124589 rows x 8 columns]"
      ]
     },
     "execution_count": 2,
     "metadata": {},
     "output_type": "execute_result"
    }
   ],
   "source": [
    "table1.columns=['customer_id','Gender','Age','Driving_liscense_presence','region_code','Previously_insure','vehicle_age','vehicle_damaged']\n",
    "table1"
   ]
  },
  {
   "cell_type": "code",
   "execution_count": 3,
   "id": "4181dbc2",
   "metadata": {},
   "outputs": [
    {
     "data": {
      "text/plain": [
       "customer_id                  128\n",
       "Gender                       110\n",
       "Age                          138\n",
       "Driving_liscense_presence    131\n",
       "region_code                  144\n",
       "Previously_insure            120\n",
       "vehicle_age                  108\n",
       "vehicle_damaged              144\n",
       "dtype: int64"
      ]
     },
     "execution_count": 3,
     "metadata": {},
     "output_type": "execute_result"
    }
   ],
   "source": [
    "table1.isnull().sum()"
   ]
  },
  {
   "cell_type": "code",
   "execution_count": 4,
   "id": "c760dd40",
   "metadata": {},
   "outputs": [
    {
     "data": {
      "text/html": [
       "<div>\n",
       "<style scoped>\n",
       "    .dataframe tbody tr th:only-of-type {\n",
       "        vertical-align: middle;\n",
       "    }\n",
       "\n",
       "    .dataframe tbody tr th {\n",
       "        vertical-align: top;\n",
       "    }\n",
       "\n",
       "    .dataframe thead th {\n",
       "        text-align: right;\n",
       "    }\n",
       "</style>\n",
       "<table border=\"1\" class=\"dataframe\">\n",
       "  <thead>\n",
       "    <tr style=\"text-align: right;\">\n",
       "      <th></th>\n",
       "      <th>customer_id</th>\n",
       "      <th>annual premium (in Rs)</th>\n",
       "      <th>sales channel code</th>\n",
       "      <th>vintage</th>\n",
       "      <th>response</th>\n",
       "    </tr>\n",
       "  </thead>\n",
       "  <tbody>\n",
       "    <tr>\n",
       "      <th>0</th>\n",
       "      <td>1.0</td>\n",
       "      <td>40454.0</td>\n",
       "      <td>26.0</td>\n",
       "      <td>217.0</td>\n",
       "      <td>1.0</td>\n",
       "    </tr>\n",
       "    <tr>\n",
       "      <th>1</th>\n",
       "      <td>2.0</td>\n",
       "      <td>33536.0</td>\n",
       "      <td>26.0</td>\n",
       "      <td>183.0</td>\n",
       "      <td>0.0</td>\n",
       "    </tr>\n",
       "    <tr>\n",
       "      <th>2</th>\n",
       "      <td>3.0</td>\n",
       "      <td>38294.0</td>\n",
       "      <td>26.0</td>\n",
       "      <td>27.0</td>\n",
       "      <td>1.0</td>\n",
       "    </tr>\n",
       "    <tr>\n",
       "      <th>3</th>\n",
       "      <td>4.0</td>\n",
       "      <td>28619.0</td>\n",
       "      <td>152.0</td>\n",
       "      <td>203.0</td>\n",
       "      <td>0.0</td>\n",
       "    </tr>\n",
       "    <tr>\n",
       "      <th>4</th>\n",
       "      <td>5.0</td>\n",
       "      <td>27496.0</td>\n",
       "      <td>152.0</td>\n",
       "      <td>39.0</td>\n",
       "      <td>0.0</td>\n",
       "    </tr>\n",
       "    <tr>\n",
       "      <th>...</th>\n",
       "      <td>...</td>\n",
       "      <td>...</td>\n",
       "      <td>...</td>\n",
       "      <td>...</td>\n",
       "      <td>...</td>\n",
       "    </tr>\n",
       "    <tr>\n",
       "      <th>381104</th>\n",
       "      <td>381105.0</td>\n",
       "      <td>30170.0</td>\n",
       "      <td>26.0</td>\n",
       "      <td>88.0</td>\n",
       "      <td>0.0</td>\n",
       "    </tr>\n",
       "    <tr>\n",
       "      <th>381105</th>\n",
       "      <td>381106.0</td>\n",
       "      <td>40016.0</td>\n",
       "      <td>152.0</td>\n",
       "      <td>131.0</td>\n",
       "      <td>0.0</td>\n",
       "    </tr>\n",
       "    <tr>\n",
       "      <th>381106</th>\n",
       "      <td>381107.0</td>\n",
       "      <td>35118.0</td>\n",
       "      <td>160.0</td>\n",
       "      <td>161.0</td>\n",
       "      <td>0.0</td>\n",
       "    </tr>\n",
       "    <tr>\n",
       "      <th>381107</th>\n",
       "      <td>381108.0</td>\n",
       "      <td>44617.0</td>\n",
       "      <td>124.0</td>\n",
       "      <td>74.0</td>\n",
       "      <td>0.0</td>\n",
       "    </tr>\n",
       "    <tr>\n",
       "      <th>381108</th>\n",
       "      <td>381109.0</td>\n",
       "      <td>41777.0</td>\n",
       "      <td>26.0</td>\n",
       "      <td>237.0</td>\n",
       "      <td>0.0</td>\n",
       "    </tr>\n",
       "  </tbody>\n",
       "</table>\n",
       "<p>381109 rows × 5 columns</p>\n",
       "</div>"
      ],
      "text/plain": [
       "        customer_id  annual premium (in Rs)  sales channel code  vintage  \\\n",
       "0               1.0                 40454.0                26.0    217.0   \n",
       "1               2.0                 33536.0                26.0    183.0   \n",
       "2               3.0                 38294.0                26.0     27.0   \n",
       "3               4.0                 28619.0               152.0    203.0   \n",
       "4               5.0                 27496.0               152.0     39.0   \n",
       "...             ...                     ...                 ...      ...   \n",
       "381104     381105.0                 30170.0                26.0     88.0   \n",
       "381105     381106.0                 40016.0               152.0    131.0   \n",
       "381106     381107.0                 35118.0               160.0    161.0   \n",
       "381107     381108.0                 44617.0               124.0     74.0   \n",
       "381108     381109.0                 41777.0                26.0    237.0   \n",
       "\n",
       "        response  \n",
       "0            1.0  \n",
       "1            0.0  \n",
       "2            1.0  \n",
       "3            0.0  \n",
       "4            0.0  \n",
       "...          ...  \n",
       "381104       0.0  \n",
       "381105       0.0  \n",
       "381106       0.0  \n",
       "381107       0.0  \n",
       "381108       0.0  \n",
       "\n",
       "[381109 rows x 5 columns]"
      ]
     },
     "execution_count": 4,
     "metadata": {},
     "output_type": "execute_result"
    }
   ],
   "source": [
    "table2.columns=['customer_id', 'annual premium (in Rs)','sales channel code', 'vintage', 'response']\n",
    "table2\n",
    "           "
   ]
  },
  {
   "cell_type": "code",
   "execution_count": 5,
   "id": "ba9c4502",
   "metadata": {},
   "outputs": [
    {
     "name": "stdout",
     "output_type": "stream",
     "text": [
      "customer_id               387\n",
      "annual premium (in Rs)    346\n",
      "sales channel code        400\n",
      "vintage                   388\n",
      "response                  361\n",
      "dtype: int64\n",
      "<class 'pandas.core.frame.DataFrame'>\n",
      "RangeIndex: 381109 entries, 0 to 381108\n",
      "Data columns (total 5 columns):\n",
      " #   Column                  Non-Null Count   Dtype  \n",
      "---  ------                  --------------   -----  \n",
      " 0   customer_id             380722 non-null  float64\n",
      " 1   annual premium (in Rs)  380763 non-null  float64\n",
      " 2   sales channel code      380709 non-null  float64\n",
      " 3   vintage                 380721 non-null  float64\n",
      " 4   response                380748 non-null  float64\n",
      "dtypes: float64(5)\n",
      "memory usage: 14.5 MB\n"
     ]
    }
   ],
   "source": [
    "print(table2.isnull().sum())\n",
    "table2.info()"
   ]
  },
  {
   "cell_type": "code",
   "execution_count": 6,
   "id": "81f1930a",
   "metadata": {},
   "outputs": [],
   "source": [
    "table1.dropna(subset=['customer_id'], axis=0,inplace=True)\n",
    "\n",
    "table2.dropna(subset=['customer_id'], axis=0,inplace=True)"
   ]
  },
  {
   "cell_type": "code",
   "execution_count": 7,
   "id": "186742fc",
   "metadata": {},
   "outputs": [],
   "source": [
    "table1['Age'].fillna(table1['Age'].mean(),inplace=True)\n",
    "table1['region_code'].fillna(table1['region_code'].mean(),inplace=True)"
   ]
  },
  {
   "cell_type": "code",
   "execution_count": 8,
   "id": "966acb6f",
   "metadata": {},
   "outputs": [],
   "source": [
    "table2['annual premium (in Rs)'].fillna(table2['annual premium (in Rs)'].mean(),inplace = True)\n",
    "table2['sales channel code'].fillna(table2['sales channel code'].mean(),inplace = True)\n",
    "table2['vintage'].fillna(table2['vintage'].mean(),inplace = True)"
   ]
  },
  {
   "cell_type": "code",
   "execution_count": 9,
   "id": "5fd943a1",
   "metadata": {},
   "outputs": [],
   "source": [
    "# Repalcing categorical null values by its mode.\n",
    "table1['Driving_liscense_presence'].fillna (table1['Driving_liscense_presence'].mode()[0], inplace=True)\n",
    "table1['Previously_insure'].fillna (table1['Previously_insure'].mode()[0], inplace=True)"
   ]
  },
  {
   "cell_type": "code",
   "execution_count": 10,
   "id": "90ea7a7b",
   "metadata": {},
   "outputs": [],
   "source": [
    "table2['response'].fillna(table2['response'].mode()[0], inplace=True)"
   ]
  },
  {
   "cell_type": "code",
   "execution_count": 11,
   "id": "0a53c56c",
   "metadata": {},
   "outputs": [
    {
     "name": "stdout",
     "output_type": "stream",
     "text": [
      "<class 'pandas.core.frame.DataFrame'>\n",
      "Int64Index: 124461 entries, 0 to 124588\n",
      "Data columns (total 8 columns):\n",
      " #   Column                     Non-Null Count   Dtype  \n",
      "---  ------                     --------------   -----  \n",
      " 0   customer_id                124461 non-null  float64\n",
      " 1   Gender                     124351 non-null  object \n",
      " 2   Age                        124461 non-null  float64\n",
      " 3   Driving_liscense_presence  124461 non-null  float64\n",
      " 4   region_code                124461 non-null  float64\n",
      " 5   Previously_insure          124461 non-null  float64\n",
      " 6   vehicle_age                124353 non-null  object \n",
      " 7   vehicle_damaged            124317 non-null  object \n",
      "dtypes: float64(5), object(3)\n",
      "memory usage: 8.5+ MB\n"
     ]
    }
   ],
   "source": [
    "table1.isnull().sum()\n",
    "table1.info()"
   ]
  },
  {
   "cell_type": "code",
   "execution_count": 12,
   "id": "32e0b1a1",
   "metadata": {},
   "outputs": [
    {
     "data": {
      "text/html": [
       "<div>\n",
       "<style scoped>\n",
       "    .dataframe tbody tr th:only-of-type {\n",
       "        vertical-align: middle;\n",
       "    }\n",
       "\n",
       "    .dataframe tbody tr th {\n",
       "        vertical-align: top;\n",
       "    }\n",
       "\n",
       "    .dataframe thead th {\n",
       "        text-align: right;\n",
       "    }\n",
       "</style>\n",
       "<table border=\"1\" class=\"dataframe\">\n",
       "  <thead>\n",
       "    <tr style=\"text-align: right;\">\n",
       "      <th></th>\n",
       "      <th>customer_id</th>\n",
       "      <th>Age</th>\n",
       "      <th>Driving_liscense_presence</th>\n",
       "      <th>region_code</th>\n",
       "      <th>Previously_insure</th>\n",
       "    </tr>\n",
       "  </thead>\n",
       "  <tbody>\n",
       "    <tr>\n",
       "      <th>count</th>\n",
       "      <td>124461.000000</td>\n",
       "      <td>124461.000000</td>\n",
       "      <td>124461.000000</td>\n",
       "      <td>124461.000000</td>\n",
       "      <td>124461.000000</td>\n",
       "    </tr>\n",
       "    <tr>\n",
       "      <th>mean</th>\n",
       "      <td>62290.329469</td>\n",
       "      <td>38.795028</td>\n",
       "      <td>0.998015</td>\n",
       "      <td>26.421688</td>\n",
       "      <td>0.457147</td>\n",
       "    </tr>\n",
       "    <tr>\n",
       "      <th>std</th>\n",
       "      <td>35964.242790</td>\n",
       "      <td>15.484741</td>\n",
       "      <td>0.044504</td>\n",
       "      <td>13.219443</td>\n",
       "      <td>0.498162</td>\n",
       "    </tr>\n",
       "    <tr>\n",
       "      <th>min</th>\n",
       "      <td>1.000000</td>\n",
       "      <td>20.000000</td>\n",
       "      <td>0.000000</td>\n",
       "      <td>0.000000</td>\n",
       "      <td>0.000000</td>\n",
       "    </tr>\n",
       "    <tr>\n",
       "      <th>25%</th>\n",
       "      <td>31146.000000</td>\n",
       "      <td>25.000000</td>\n",
       "      <td>1.000000</td>\n",
       "      <td>15.000000</td>\n",
       "      <td>0.000000</td>\n",
       "    </tr>\n",
       "    <tr>\n",
       "      <th>50%</th>\n",
       "      <td>62289.000000</td>\n",
       "      <td>36.000000</td>\n",
       "      <td>1.000000</td>\n",
       "      <td>28.000000</td>\n",
       "      <td>0.000000</td>\n",
       "    </tr>\n",
       "    <tr>\n",
       "      <th>75%</th>\n",
       "      <td>93431.000000</td>\n",
       "      <td>49.000000</td>\n",
       "      <td>1.000000</td>\n",
       "      <td>35.000000</td>\n",
       "      <td>1.000000</td>\n",
       "    </tr>\n",
       "    <tr>\n",
       "      <th>max</th>\n",
       "      <td>124589.000000</td>\n",
       "      <td>85.000000</td>\n",
       "      <td>1.000000</td>\n",
       "      <td>52.000000</td>\n",
       "      <td>1.000000</td>\n",
       "    </tr>\n",
       "  </tbody>\n",
       "</table>\n",
       "</div>"
      ],
      "text/plain": [
       "         customer_id            Age  Driving_liscense_presence    region_code  \\\n",
       "count  124461.000000  124461.000000              124461.000000  124461.000000   \n",
       "mean    62290.329469      38.795028                   0.998015      26.421688   \n",
       "std     35964.242790      15.484741                   0.044504      13.219443   \n",
       "min         1.000000      20.000000                   0.000000       0.000000   \n",
       "25%     31146.000000      25.000000                   1.000000      15.000000   \n",
       "50%     62289.000000      36.000000                   1.000000      28.000000   \n",
       "75%     93431.000000      49.000000                   1.000000      35.000000   \n",
       "max    124589.000000      85.000000                   1.000000      52.000000   \n",
       "\n",
       "       Previously_insure  \n",
       "count      124461.000000  \n",
       "mean            0.457147  \n",
       "std             0.498162  \n",
       "min             0.000000  \n",
       "25%             0.000000  \n",
       "50%             0.000000  \n",
       "75%             1.000000  \n",
       "max             1.000000  "
      ]
     },
     "execution_count": 12,
     "metadata": {},
     "output_type": "execute_result"
    }
   ],
   "source": [
    "table1.describe()"
   ]
  },
  {
   "cell_type": "code",
   "execution_count": 13,
   "id": "2fc93d04",
   "metadata": {},
   "outputs": [
    {
     "data": {
      "image/png": "[encoded data removed]",
      "text/plain": [
       "<Figure size 640x480 with 1 Axes>"
      ]
     },
     "metadata": {},
     "output_type": "display_data"
    }
   ],
   "source": [
    "# Summary of Count of Outliers\n",
    "import matplotlib.pyplot as plt\n",
    "def plot_boxplot(df,ft):\n",
    "    df.boxplot(column=[ft])\n",
    "    plt.grid(False)\n",
    "    plt.show()\n",
    "plot_boxplot(table1,'Age')\n"
   ]
  },
  {
   "cell_type": "code",
   "execution_count": 14,
   "id": "54a6c709",
   "metadata": {},
   "outputs": [
    {
     "data": {
      "image/png": "[encoded data removed]",
      "text/plain": [
       "<Figure size 640x480 with 1 Axes>"
      ]
     },
     "metadata": {},
     "output_type": "display_data"
    }
   ],
   "source": [
    "plot_boxplot(table1,'region_code')"
   ]
  },
  {
   "cell_type": "code",
   "execution_count": 15,
   "id": "bba50262",
   "metadata": {},
   "outputs": [],
   "source": [
    "q1=table1['Age'].quantile(0.25)\n",
    "q3=table1['Age'].quantile(0.75)"
   ]
  },
  {
   "cell_type": "code",
   "execution_count": 16,
   "id": "231ae9c3",
   "metadata": {},
   "outputs": [
    {
     "name": "stdout",
     "output_type": "stream",
     "text": [
      "Number of outliers : 0\n",
      "Maximum outlier value : nan\n",
      "Minimum outlier value : nan\n",
      "Number of outliers : 0\n",
      "Maximum outlier value : nan\n",
      "Minimum outlier value : nan\n"
     ]
    }
   ],
   "source": [
    "def finding_outliers(df):\n",
    "    q1 = df.quantile(0.25)\n",
    "    q3 = df.quantile(0.75)\n",
    "    iqr = q3-q1\n",
    "    outlier = df[((df<(q1-1.5*iqr)) | (df>(q3+1.5*iqr)))]\n",
    "    return outlier\n",
    " \n",
    "\n",
    "outliers = finding_outliers(table1['Age'])\n",
    "\n",
    "print('Number of outliers :',len(outliers))\n",
    "print('Maximum outlier value :',outliers.max())\n",
    "print('Minimum outlier value :',outliers.min())\n",
    "\n",
    "outliers = finding_outliers(table1['region_code'])\n",
    "\n",
    "print('Number of outliers :',len(outliers))\n",
    "print('Maximum outlier value :',outliers.max())\n",
    "print('Minimum outlier value :',outliers.min())"
   ]
  },
  {
   "cell_type": "code",
   "execution_count": 17,
   "id": "7aa9fe91",
   "metadata": {},
   "outputs": [
    {
     "name": "stdout",
     "output_type": "stream",
     "text": [
      "Number of outliers : 0\n",
      "Maximum outlier value : nan\n",
      "Minimum outlier value : nan\n"
     ]
    }
   ],
   "source": [
    "outliers = finding_outliers(table1['region_code'])\n",
    "\n",
    "print('Number of outliers :',len(outliers))\n",
    "print('Maximum outlier value :',outliers.max())\n",
    "print('Minimum outlier value :',outliers.min())"
   ]
  },
  {
   "cell_type": "code",
   "execution_count": 18,
   "id": "1ce5b93d",
   "metadata": {},
   "outputs": [
    {
     "data": {
      "image/png": "[encoded data removed]",
      "text/plain": [
       "<Figure size 640x480 with 1 Axes>"
      ]
     },
     "metadata": {},
     "output_type": "display_data"
    }
   ],
   "source": [
    "plot_boxplot(table2,'annual premium (in Rs)')\n",
    " "
   ]
  },
  {
   "cell_type": "code",
   "execution_count": 47,
   "id": "f8f76968",
   "metadata": {},
   "outputs": [
    {
     "data": {
      "image/png": "[encoded data removed]",
      "text/plain": [
       "<Figure size 640x480 with 1 Axes>"
      ]
     },
     "metadata": {},
     "output_type": "display_data"
    }
   ],
   "source": [
    "plot_boxplot(table2,'sales channel code')\n",
    " "
   ]
  },
  {
   "cell_type": "code",
   "execution_count": 48,
   "id": "076c41ab",
   "metadata": {},
   "outputs": [
    {
     "data": {
      "image/png": "[encoded data removed]",
      "text/plain": [
       "<Figure size 640x480 with 1 Axes>"
      ]
     },
     "metadata": {},
     "output_type": "display_data"
    }
   ],
   "source": [
    "plot_boxplot(table2,'vintage')\n",
    " "
   ]
  },
  {
   "cell_type": "code",
   "execution_count": 49,
   "id": "38750fe1",
   "metadata": {},
   "outputs": [
    {
     "name": "stdout",
     "output_type": "stream",
     "text": [
      "Number of outliers : 67443\n",
      "Maximum outlier value : 61854.0\n",
      "Minimum outlier value : 2630.0\n"
     ]
    }
   ],
   "source": [
    "outliers = finding_outliers(table2['annual premium (in Rs)'])\n",
    "\n",
    "print('Number of outliers :',len(outliers))\n",
    "print('Maximum outlier value :',outliers.max())\n",
    "print('Minimum outlier value :',outliers.min())"
   ]
  },
  {
   "cell_type": "code",
   "execution_count": 51,
   "id": "5846c3a4",
   "metadata": {},
   "outputs": [
    {
     "name": "stdout",
     "output_type": "stream",
     "text": [
      "Number of outliers : 0\n",
      "Maximum outlier value : nan\n",
      "Minimum outlier value : nan\n"
     ]
    }
   ],
   "source": [
    "outliers = finding_outliers(table2['sales channel code'])\n",
    "\n",
    "print('Number of outliers :',len(outliers))\n",
    "print('Maximum outlier value :',outliers.max())\n",
    "print('Minimum outlier value :',outliers.min())"
   ]
  },
  {
   "cell_type": "code",
   "execution_count": 52,
   "id": "585184a1",
   "metadata": {},
   "outputs": [
    {
     "name": "stdout",
     "output_type": "stream",
     "text": [
      "Number of outliers : 0\n",
      "Maximum outlier value : nan\n",
      "Minimum outlier value : nan\n"
     ]
    }
   ],
   "source": [
    "outliers = finding_outliers(table2['vintage'])\n",
    "\n",
    "print('Number of outliers :',len(outliers))\n",
    "print('Maximum outlier value :',outliers.max())\n",
    "print('Minimum outlier value :',outliers.min())"
   ]
  },
  {
   "cell_type": "code",
   "execution_count": 20,
   "id": "445e3025",
   "metadata": {},
   "outputs": [],
   "source": [
    "def replace_outlier(df):\n",
    "    q1 = df.quantile(0.25)\n",
    "    q3 = df.quantile(0.75)\n",
    "    iqr = q3-q1\n",
    "    upper = df[~(df>(q3+1.5*iqr))].max()\n",
    "    lower = df[~(df<(q1-1.5*iqr))].min()\n",
    "    df = np.where(df>upper,df.mean(),np.where(df<lower,df.mean(),df))\n",
    "    return df"
   ]
  },
  {
   "cell_type": "code",
   "execution_count": 21,
   "id": "8bd7274e",
   "metadata": {},
   "outputs": [
    {
     "name": "stdout",
     "output_type": "stream",
     "text": [
      "Age                            0\n",
      "Driving_liscense_presence    247\n",
      "Gender                         0\n",
      "Previously_insure              0\n",
      "customer_id                    0\n",
      "region_code                    0\n",
      "vehicle_age                    0\n",
      "vehicle_damaged                0\n",
      "dtype: int64\n"
     ]
    },
    {
     "name": "stderr",
     "output_type": "stream",
     "text": [
      "C:\\Users\\abhip\\AppData\\Local\\Temp\\ipykernel_1116\\1016457784.py:4: FutureWarning: Automatic reindexing on DataFrame vs Series comparisons is deprecated and will raise ValueError in a future version. Do `left, right = left.align(right, axis=1, copy=False)` before e.g. `left == right`\n",
      "  outliers =(((table1<(q1-1.5*IQR)) | (table1>(q3+1.5*IQR)))).sum()\n"
     ]
    }
   ],
   "source": [
    "q1=table1.quantile(0.25)\n",
    "q3=table1.quantile(0.75)\n",
    "IQR=q3-q1\n",
    "outliers =(((table1<(q1-1.5*IQR)) | (table1>(q3+1.5*IQR)))).sum()\n",
    "print(outliers)# for customer detail data no outliers except column driving liscense presence but no meaning further proceed for this column "
   ]
  },
  {
   "cell_type": "code",
   "execution_count": 22,
   "id": "57c732e8",
   "metadata": {},
   "outputs": [
    {
     "name": "stdout",
     "output_type": "stream",
     "text": [
      "customer_id                   0\n",
      "annual premium (in Rs)    10332\n",
      "sales channel code            0\n",
      "vintage                       0\n",
      "response                  46604\n",
      "dtype: int64\n"
     ]
    }
   ],
   "source": [
    "q1=table2.quantile(0.25)\n",
    "q3=table2.quantile(0.75)\n",
    "IQR=q3-q1\n",
    "outliers =(((table2<(q1-1.5*IQR)) | (table2>(q3+1.5*IQR)))).sum()\n",
    "print(outliers)"
   ]
  },
  {
   "cell_type": "code",
   "execution_count": 23,
   "id": "b5248449",
   "metadata": {},
   "outputs": [
    {
     "name": "stdout",
     "output_type": "stream",
     "text": [
      "annual premium (in Rs)    10332\n",
      "dtype: int64\n"
     ]
    }
   ],
   "source": [
    "q1=table2[['annual premium (in Rs)']].quantile(0.25)\n",
    "q3=table2[['annual premium (in Rs)']].quantile(0.75)\n",
    "IQR=q3-q1\n",
    "outliers =(((table2[['annual premium (in Rs)']]<(q1-1.5*IQR)) | (table2[['annual premium (in Rs)']]>(q3+1.5*IQR)))).sum()\n",
    "print(outliers)"
   ]
  },
  {
   "cell_type": "code",
   "execution_count": 24,
   "id": "0f3d8c7e",
   "metadata": {},
   "outputs": [
    {
     "data": {
      "text/plain": [
       "customer_id                  124461\n",
       "Gender                            2\n",
       "Age                              67\n",
       "Driving_liscense_presence         2\n",
       "region_code                      54\n",
       "Previously_insure                 2\n",
       "vehicle_age                       3\n",
       "vehicle_damaged                   2\n",
       "dtype: int64"
      ]
     },
     "execution_count": 24,
     "metadata": {},
     "output_type": "execute_result"
    }
   ],
   "source": [
    "table1.nunique()\n"
   ]
  },
  {
   "cell_type": "code",
   "execution_count": 25,
   "id": "d90098bf",
   "metadata": {},
   "outputs": [
    {
     "data": {
      "text/plain": [
       "array([ 40454.,  33536.,  38294., ...,  20706., 101664.,  69845.])"
      ]
     },
     "execution_count": 25,
     "metadata": {},
     "output_type": "execute_result"
    }
   ],
   "source": [
    "table2['annual premium (in Rs)'].unique()"
   ]
  },
  {
   "cell_type": "code",
   "execution_count": 26,
   "id": "cad40e04",
   "metadata": {},
   "outputs": [],
   "source": [
    "table2['annual premium (in Rs)'] = replace_outlier(table2['annual premium (in Rs)'])"
   ]
  },
  {
   "cell_type": "code",
   "execution_count": 27,
   "id": "66105fbb",
   "metadata": {},
   "outputs": [
    {
     "data": {
      "text/html": [
       "<div>\n",
       "<style scoped>\n",
       "    .dataframe tbody tr th:only-of-type {\n",
       "        vertical-align: middle;\n",
       "    }\n",
       "\n",
       "    .dataframe tbody tr th {\n",
       "        vertical-align: top;\n",
       "    }\n",
       "\n",
       "    .dataframe thead th {\n",
       "        text-align: right;\n",
       "    }\n",
       "</style>\n",
       "<table border=\"1\" class=\"dataframe\">\n",
       "  <thead>\n",
       "    <tr style=\"text-align: right;\">\n",
       "      <th></th>\n",
       "      <th>customer_id</th>\n",
       "      <th>Gender</th>\n",
       "      <th>Age</th>\n",
       "      <th>Driving_liscense_presence</th>\n",
       "      <th>region_code</th>\n",
       "      <th>Previously_insure</th>\n",
       "      <th>vehicle_age</th>\n",
       "      <th>vehicle_damaged</th>\n",
       "    </tr>\n",
       "  </thead>\n",
       "  <tbody>\n",
       "    <tr>\n",
       "      <th>0</th>\n",
       "      <td>1.0</td>\n",
       "      <td>Male</td>\n",
       "      <td>44.0</td>\n",
       "      <td>1.0</td>\n",
       "      <td>28.0</td>\n",
       "      <td>0.0</td>\n",
       "      <td>&gt; 2 Years</td>\n",
       "      <td>Yes</td>\n",
       "    </tr>\n",
       "    <tr>\n",
       "      <th>1</th>\n",
       "      <td>2.0</td>\n",
       "      <td>Male</td>\n",
       "      <td>76.0</td>\n",
       "      <td>1.0</td>\n",
       "      <td>3.0</td>\n",
       "      <td>0.0</td>\n",
       "      <td>1-2 Year</td>\n",
       "      <td>No</td>\n",
       "    </tr>\n",
       "    <tr>\n",
       "      <th>2</th>\n",
       "      <td>3.0</td>\n",
       "      <td>Male</td>\n",
       "      <td>47.0</td>\n",
       "      <td>1.0</td>\n",
       "      <td>28.0</td>\n",
       "      <td>0.0</td>\n",
       "      <td>&gt; 2 Years</td>\n",
       "      <td>Yes</td>\n",
       "    </tr>\n",
       "    <tr>\n",
       "      <th>3</th>\n",
       "      <td>4.0</td>\n",
       "      <td>Male</td>\n",
       "      <td>21.0</td>\n",
       "      <td>1.0</td>\n",
       "      <td>11.0</td>\n",
       "      <td>1.0</td>\n",
       "      <td>&lt; 1 Year</td>\n",
       "      <td>No</td>\n",
       "    </tr>\n",
       "    <tr>\n",
       "      <th>4</th>\n",
       "      <td>5.0</td>\n",
       "      <td>Female</td>\n",
       "      <td>29.0</td>\n",
       "      <td>1.0</td>\n",
       "      <td>41.0</td>\n",
       "      <td>1.0</td>\n",
       "      <td>&lt; 1 Year</td>\n",
       "      <td>No</td>\n",
       "    </tr>\n",
       "    <tr>\n",
       "      <th>...</th>\n",
       "      <td>...</td>\n",
       "      <td>...</td>\n",
       "      <td>...</td>\n",
       "      <td>...</td>\n",
       "      <td>...</td>\n",
       "      <td>...</td>\n",
       "      <td>...</td>\n",
       "      <td>...</td>\n",
       "    </tr>\n",
       "    <tr>\n",
       "      <th>124584</th>\n",
       "      <td>124585.0</td>\n",
       "      <td>Female</td>\n",
       "      <td>50.0</td>\n",
       "      <td>1.0</td>\n",
       "      <td>13.0</td>\n",
       "      <td>0.0</td>\n",
       "      <td>1-2 Year</td>\n",
       "      <td>Yes</td>\n",
       "    </tr>\n",
       "    <tr>\n",
       "      <th>124585</th>\n",
       "      <td>124586.0</td>\n",
       "      <td>Female</td>\n",
       "      <td>24.0</td>\n",
       "      <td>1.0</td>\n",
       "      <td>8.0</td>\n",
       "      <td>1.0</td>\n",
       "      <td>&lt; 1 Year</td>\n",
       "      <td>No</td>\n",
       "    </tr>\n",
       "    <tr>\n",
       "      <th>124586</th>\n",
       "      <td>124587.0</td>\n",
       "      <td>Male</td>\n",
       "      <td>24.0</td>\n",
       "      <td>1.0</td>\n",
       "      <td>36.0</td>\n",
       "      <td>1.0</td>\n",
       "      <td>&lt; 1 Year</td>\n",
       "      <td>No</td>\n",
       "    </tr>\n",
       "    <tr>\n",
       "      <th>124587</th>\n",
       "      <td>124588.0</td>\n",
       "      <td>Male</td>\n",
       "      <td>43.0</td>\n",
       "      <td>1.0</td>\n",
       "      <td>28.0</td>\n",
       "      <td>0.0</td>\n",
       "      <td>1-2 Year</td>\n",
       "      <td>No</td>\n",
       "    </tr>\n",
       "    <tr>\n",
       "      <th>124588</th>\n",
       "      <td>124589.0</td>\n",
       "      <td>Male</td>\n",
       "      <td>46.0</td>\n",
       "      <td>1.0</td>\n",
       "      <td>3.0</td>\n",
       "      <td>0.0</td>\n",
       "      <td>1-2 Year</td>\n",
       "      <td>Yes</td>\n",
       "    </tr>\n",
       "  </tbody>\n",
       "</table>\n",
       "<p>124461 rows × 8 columns</p>\n",
       "</div>"
      ],
      "text/plain": [
       "        customer_id  Gender   Age  Driving_liscense_presence  region_code  \\\n",
       "0               1.0    Male  44.0                        1.0         28.0   \n",
       "1               2.0    Male  76.0                        1.0          3.0   \n",
       "2               3.0    Male  47.0                        1.0         28.0   \n",
       "3               4.0    Male  21.0                        1.0         11.0   \n",
       "4               5.0  Female  29.0                        1.0         41.0   \n",
       "...             ...     ...   ...                        ...          ...   \n",
       "124584     124585.0  Female  50.0                        1.0         13.0   \n",
       "124585     124586.0  Female  24.0                        1.0          8.0   \n",
       "124586     124587.0    Male  24.0                        1.0         36.0   \n",
       "124587     124588.0    Male  43.0                        1.0         28.0   \n",
       "124588     124589.0    Male  46.0                        1.0          3.0   \n",
       "\n",
       "        Previously_insure vehicle_age vehicle_damaged  \n",
       "0                     0.0   > 2 Years             Yes  \n",
       "1                     0.0    1-2 Year              No  \n",
       "2                     0.0   > 2 Years             Yes  \n",
       "3                     1.0    < 1 Year              No  \n",
       "4                     1.0    < 1 Year              No  \n",
       "...                   ...         ...             ...  \n",
       "124584                0.0    1-2 Year             Yes  \n",
       "124585                1.0    < 1 Year              No  \n",
       "124586                1.0    < 1 Year              No  \n",
       "124587                0.0    1-2 Year              No  \n",
       "124588                0.0    1-2 Year             Yes  \n",
       "\n",
       "[124461 rows x 8 columns]"
      ]
     },
     "execution_count": 27,
     "metadata": {},
     "output_type": "execute_result"
    }
   ],
   "source": [
    "# rempove white spaces \n",
    "table1.apply(lambda x: x.str.strip() if x.dtype=='object' else x)"
   ]
  },
  {
   "cell_type": "code",
   "execution_count": 28,
   "id": "6d2726cf",
   "metadata": {},
   "outputs": [
    {
     "data": {
      "text/html": [
       "<div>\n",
       "<style scoped>\n",
       "    .dataframe tbody tr th:only-of-type {\n",
       "        vertical-align: middle;\n",
       "    }\n",
       "\n",
       "    .dataframe tbody tr th {\n",
       "        vertical-align: top;\n",
       "    }\n",
       "\n",
       "    .dataframe thead th {\n",
       "        text-align: right;\n",
       "    }\n",
       "</style>\n",
       "<table border=\"1\" class=\"dataframe\">\n",
       "  <thead>\n",
       "    <tr style=\"text-align: right;\">\n",
       "      <th></th>\n",
       "      <th>customer_id</th>\n",
       "      <th>Gender</th>\n",
       "      <th>Age</th>\n",
       "      <th>Driving_liscense_presence</th>\n",
       "      <th>region_code</th>\n",
       "      <th>Previously_insure</th>\n",
       "      <th>vehicle_age</th>\n",
       "      <th>vehicle_damaged</th>\n",
       "    </tr>\n",
       "  </thead>\n",
       "  <tbody>\n",
       "    <tr>\n",
       "      <th>0</th>\n",
       "      <td>1.0</td>\n",
       "      <td>MALE</td>\n",
       "      <td>44.0</td>\n",
       "      <td>1.0</td>\n",
       "      <td>28.0</td>\n",
       "      <td>0.0</td>\n",
       "      <td>&gt; 2 YEARS</td>\n",
       "      <td>YES</td>\n",
       "    </tr>\n",
       "    <tr>\n",
       "      <th>1</th>\n",
       "      <td>2.0</td>\n",
       "      <td>MALE</td>\n",
       "      <td>76.0</td>\n",
       "      <td>1.0</td>\n",
       "      <td>3.0</td>\n",
       "      <td>0.0</td>\n",
       "      <td>1-2 YEAR</td>\n",
       "      <td>NO</td>\n",
       "    </tr>\n",
       "    <tr>\n",
       "      <th>2</th>\n",
       "      <td>3.0</td>\n",
       "      <td>MALE</td>\n",
       "      <td>47.0</td>\n",
       "      <td>1.0</td>\n",
       "      <td>28.0</td>\n",
       "      <td>0.0</td>\n",
       "      <td>&gt; 2 YEARS</td>\n",
       "      <td>YES</td>\n",
       "    </tr>\n",
       "    <tr>\n",
       "      <th>3</th>\n",
       "      <td>4.0</td>\n",
       "      <td>MALE</td>\n",
       "      <td>21.0</td>\n",
       "      <td>1.0</td>\n",
       "      <td>11.0</td>\n",
       "      <td>1.0</td>\n",
       "      <td>&lt; 1 YEAR</td>\n",
       "      <td>NO</td>\n",
       "    </tr>\n",
       "    <tr>\n",
       "      <th>4</th>\n",
       "      <td>5.0</td>\n",
       "      <td>FEMALE</td>\n",
       "      <td>29.0</td>\n",
       "      <td>1.0</td>\n",
       "      <td>41.0</td>\n",
       "      <td>1.0</td>\n",
       "      <td>&lt; 1 YEAR</td>\n",
       "      <td>NO</td>\n",
       "    </tr>\n",
       "    <tr>\n",
       "      <th>...</th>\n",
       "      <td>...</td>\n",
       "      <td>...</td>\n",
       "      <td>...</td>\n",
       "      <td>...</td>\n",
       "      <td>...</td>\n",
       "      <td>...</td>\n",
       "      <td>...</td>\n",
       "      <td>...</td>\n",
       "    </tr>\n",
       "    <tr>\n",
       "      <th>124584</th>\n",
       "      <td>124585.0</td>\n",
       "      <td>FEMALE</td>\n",
       "      <td>50.0</td>\n",
       "      <td>1.0</td>\n",
       "      <td>13.0</td>\n",
       "      <td>0.0</td>\n",
       "      <td>1-2 YEAR</td>\n",
       "      <td>YES</td>\n",
       "    </tr>\n",
       "    <tr>\n",
       "      <th>124585</th>\n",
       "      <td>124586.0</td>\n",
       "      <td>FEMALE</td>\n",
       "      <td>24.0</td>\n",
       "      <td>1.0</td>\n",
       "      <td>8.0</td>\n",
       "      <td>1.0</td>\n",
       "      <td>&lt; 1 YEAR</td>\n",
       "      <td>NO</td>\n",
       "    </tr>\n",
       "    <tr>\n",
       "      <th>124586</th>\n",
       "      <td>124587.0</td>\n",
       "      <td>MALE</td>\n",
       "      <td>24.0</td>\n",
       "      <td>1.0</td>\n",
       "      <td>36.0</td>\n",
       "      <td>1.0</td>\n",
       "      <td>&lt; 1 YEAR</td>\n",
       "      <td>NO</td>\n",
       "    </tr>\n",
       "    <tr>\n",
       "      <th>124587</th>\n",
       "      <td>124588.0</td>\n",
       "      <td>MALE</td>\n",
       "      <td>43.0</td>\n",
       "      <td>1.0</td>\n",
       "      <td>28.0</td>\n",
       "      <td>0.0</td>\n",
       "      <td>1-2 YEAR</td>\n",
       "      <td>NO</td>\n",
       "    </tr>\n",
       "    <tr>\n",
       "      <th>124588</th>\n",
       "      <td>124589.0</td>\n",
       "      <td>MALE</td>\n",
       "      <td>46.0</td>\n",
       "      <td>1.0</td>\n",
       "      <td>3.0</td>\n",
       "      <td>0.0</td>\n",
       "      <td>1-2 YEAR</td>\n",
       "      <td>YES</td>\n",
       "    </tr>\n",
       "  </tbody>\n",
       "</table>\n",
       "<p>124461 rows × 8 columns</p>\n",
       "</div>"
      ],
      "text/plain": [
       "        customer_id  Gender   Age  Driving_liscense_presence  region_code  \\\n",
       "0               1.0    MALE  44.0                        1.0         28.0   \n",
       "1               2.0    MALE  76.0                        1.0          3.0   \n",
       "2               3.0    MALE  47.0                        1.0         28.0   \n",
       "3               4.0    MALE  21.0                        1.0         11.0   \n",
       "4               5.0  FEMALE  29.0                        1.0         41.0   \n",
       "...             ...     ...   ...                        ...          ...   \n",
       "124584     124585.0  FEMALE  50.0                        1.0         13.0   \n",
       "124585     124586.0  FEMALE  24.0                        1.0          8.0   \n",
       "124586     124587.0    MALE  24.0                        1.0         36.0   \n",
       "124587     124588.0    MALE  43.0                        1.0         28.0   \n",
       "124588     124589.0    MALE  46.0                        1.0          3.0   \n",
       "\n",
       "        Previously_insure vehicle_age vehicle_damaged  \n",
       "0                     0.0   > 2 YEARS             YES  \n",
       "1                     0.0    1-2 YEAR              NO  \n",
       "2                     0.0   > 2 YEARS             YES  \n",
       "3                     1.0    < 1 YEAR              NO  \n",
       "4                     1.0    < 1 YEAR              NO  \n",
       "...                   ...         ...             ...  \n",
       "124584                0.0    1-2 YEAR             YES  \n",
       "124585                1.0    < 1 YEAR              NO  \n",
       "124586                1.0    < 1 YEAR              NO  \n",
       "124587                0.0    1-2 YEAR              NO  \n",
       "124588                0.0    1-2 YEAR             YES  \n",
       "\n",
       "[124461 rows x 8 columns]"
      ]
     },
     "execution_count": 28,
     "metadata": {},
     "output_type": "execute_result"
    }
   ],
   "source": [
    "#Case Correction\n",
    "table1.apply(lambda x: x.str.upper() if x.dtype=='object' else x)"
   ]
  },
  {
   "cell_type": "code",
   "execution_count": 29,
   "id": "8e6d4dc8",
   "metadata": {},
   "outputs": [
    {
     "data": {
      "text/html": [
       "<div>\n",
       "<style scoped>\n",
       "    .dataframe tbody tr th:only-of-type {\n",
       "        vertical-align: middle;\n",
       "    }\n",
       "\n",
       "    .dataframe tbody tr th {\n",
       "        vertical-align: top;\n",
       "    }\n",
       "\n",
       "    .dataframe thead th {\n",
       "        text-align: right;\n",
       "    }\n",
       "</style>\n",
       "<table border=\"1\" class=\"dataframe\">\n",
       "  <thead>\n",
       "    <tr style=\"text-align: right;\">\n",
       "      <th></th>\n",
       "      <th>No</th>\n",
       "      <th>Yes</th>\n",
       "    </tr>\n",
       "  </thead>\n",
       "  <tbody>\n",
       "    <tr>\n",
       "      <th>0</th>\n",
       "      <td>0</td>\n",
       "      <td>1</td>\n",
       "    </tr>\n",
       "    <tr>\n",
       "      <th>1</th>\n",
       "      <td>1</td>\n",
       "      <td>0</td>\n",
       "    </tr>\n",
       "    <tr>\n",
       "      <th>2</th>\n",
       "      <td>0</td>\n",
       "      <td>1</td>\n",
       "    </tr>\n",
       "    <tr>\n",
       "      <th>3</th>\n",
       "      <td>1</td>\n",
       "      <td>0</td>\n",
       "    </tr>\n",
       "    <tr>\n",
       "      <th>4</th>\n",
       "      <td>1</td>\n",
       "      <td>0</td>\n",
       "    </tr>\n",
       "  </tbody>\n",
       "</table>\n",
       "</div>"
      ],
      "text/plain": [
       "   No  Yes\n",
       "0   0    1\n",
       "1   1    0\n",
       "2   0    1\n",
       "3   1    0\n",
       "4   1    0"
      ]
     },
     "execution_count": 29,
     "metadata": {},
     "output_type": "execute_result"
    }
   ],
   "source": [
    "#Convert nominal data into dummy variables\n",
    "#Creating dummy variable for vehicle damage\n",
    "dummy_variable_1 = pd.get_dummies(table1[\"vehicle_damaged\"])\n",
    "dummy_variable_1.head()"
   ]
  },
  {
   "cell_type": "code",
   "execution_count": 30,
   "id": "770ca099",
   "metadata": {},
   "outputs": [],
   "source": [
    "#merge data frame \"df1\" and \"dummy_variable_1\" \n",
    "table1 = pd.concat([table1, dummy_variable_1], axis=1)"
   ]
  },
  {
   "cell_type": "code",
   "execution_count": 31,
   "id": "f174cf38",
   "metadata": {},
   "outputs": [],
   "source": [
    "#table11 = pd.concat([table1, dummy_variable_1], axis=1)\n",
    "table1.drop(\"vehicle_damaged\", axis = 1, inplace=True)\n",
    " \n"
   ]
  },
  {
   "cell_type": "code",
   "execution_count": 32,
   "id": "abb5b4e9",
   "metadata": {},
   "outputs": [],
   "source": [
    "# Dropping duplicates from customer details table\n",
    "\n",
    "table1.drop_duplicates(inplace=True)\n",
    "\n",
    "\n",
    "# Dropping duplicates from customer policy details table\n",
    "\n",
    "table2.drop_duplicates(inplace=True)\n",
    " "
   ]
  },
  {
   "cell_type": "code",
   "execution_count": 33,
   "id": "19d8eebe",
   "metadata": {},
   "outputs": [
    {
     "data": {
      "text/html": [
       "<div>\n",
       "<style scoped>\n",
       "    .dataframe tbody tr th:only-of-type {\n",
       "        vertical-align: middle;\n",
       "    }\n",
       "\n",
       "    .dataframe tbody tr th {\n",
       "        vertical-align: top;\n",
       "    }\n",
       "\n",
       "    .dataframe thead th {\n",
       "        text-align: right;\n",
       "    }\n",
       "</style>\n",
       "<table border=\"1\" class=\"dataframe\">\n",
       "  <thead>\n",
       "    <tr style=\"text-align: right;\">\n",
       "      <th></th>\n",
       "      <th>customer_id</th>\n",
       "      <th>Gender</th>\n",
       "      <th>Age</th>\n",
       "      <th>Driving_liscense_presence</th>\n",
       "      <th>region_code</th>\n",
       "      <th>Previously_insure</th>\n",
       "      <th>vehicle_age</th>\n",
       "      <th>No</th>\n",
       "      <th>Yes</th>\n",
       "      <th>annual premium (in Rs)</th>\n",
       "      <th>sales channel code</th>\n",
       "      <th>vintage</th>\n",
       "      <th>response</th>\n",
       "    </tr>\n",
       "  </thead>\n",
       "  <tbody>\n",
       "    <tr>\n",
       "      <th>0</th>\n",
       "      <td>1.0</td>\n",
       "      <td>Male</td>\n",
       "      <td>44.0</td>\n",
       "      <td>1.0</td>\n",
       "      <td>28.0</td>\n",
       "      <td>0.0</td>\n",
       "      <td>&gt; 2 Years</td>\n",
       "      <td>0</td>\n",
       "      <td>1</td>\n",
       "      <td>40454.0</td>\n",
       "      <td>26.0</td>\n",
       "      <td>217.0</td>\n",
       "      <td>1.0</td>\n",
       "    </tr>\n",
       "    <tr>\n",
       "      <th>1</th>\n",
       "      <td>2.0</td>\n",
       "      <td>Male</td>\n",
       "      <td>76.0</td>\n",
       "      <td>1.0</td>\n",
       "      <td>3.0</td>\n",
       "      <td>0.0</td>\n",
       "      <td>1-2 Year</td>\n",
       "      <td>1</td>\n",
       "      <td>0</td>\n",
       "      <td>33536.0</td>\n",
       "      <td>26.0</td>\n",
       "      <td>183.0</td>\n",
       "      <td>0.0</td>\n",
       "    </tr>\n",
       "    <tr>\n",
       "      <th>2</th>\n",
       "      <td>3.0</td>\n",
       "      <td>Male</td>\n",
       "      <td>47.0</td>\n",
       "      <td>1.0</td>\n",
       "      <td>28.0</td>\n",
       "      <td>0.0</td>\n",
       "      <td>&gt; 2 Years</td>\n",
       "      <td>0</td>\n",
       "      <td>1</td>\n",
       "      <td>38294.0</td>\n",
       "      <td>26.0</td>\n",
       "      <td>27.0</td>\n",
       "      <td>1.0</td>\n",
       "    </tr>\n",
       "    <tr>\n",
       "      <th>3</th>\n",
       "      <td>4.0</td>\n",
       "      <td>Male</td>\n",
       "      <td>21.0</td>\n",
       "      <td>1.0</td>\n",
       "      <td>11.0</td>\n",
       "      <td>1.0</td>\n",
       "      <td>&lt; 1 Year</td>\n",
       "      <td>1</td>\n",
       "      <td>0</td>\n",
       "      <td>28619.0</td>\n",
       "      <td>152.0</td>\n",
       "      <td>203.0</td>\n",
       "      <td>0.0</td>\n",
       "    </tr>\n",
       "    <tr>\n",
       "      <th>4</th>\n",
       "      <td>5.0</td>\n",
       "      <td>Female</td>\n",
       "      <td>29.0</td>\n",
       "      <td>1.0</td>\n",
       "      <td>41.0</td>\n",
       "      <td>1.0</td>\n",
       "      <td>&lt; 1 Year</td>\n",
       "      <td>1</td>\n",
       "      <td>0</td>\n",
       "      <td>27496.0</td>\n",
       "      <td>152.0</td>\n",
       "      <td>39.0</td>\n",
       "      <td>0.0</td>\n",
       "    </tr>\n",
       "    <tr>\n",
       "      <th>...</th>\n",
       "      <td>...</td>\n",
       "      <td>...</td>\n",
       "      <td>...</td>\n",
       "      <td>...</td>\n",
       "      <td>...</td>\n",
       "      <td>...</td>\n",
       "      <td>...</td>\n",
       "      <td>...</td>\n",
       "      <td>...</td>\n",
       "      <td>...</td>\n",
       "      <td>...</td>\n",
       "      <td>...</td>\n",
       "      <td>...</td>\n",
       "    </tr>\n",
       "    <tr>\n",
       "      <th>124337</th>\n",
       "      <td>124585.0</td>\n",
       "      <td>Female</td>\n",
       "      <td>50.0</td>\n",
       "      <td>1.0</td>\n",
       "      <td>13.0</td>\n",
       "      <td>0.0</td>\n",
       "      <td>1-2 Year</td>\n",
       "      <td>0</td>\n",
       "      <td>1</td>\n",
       "      <td>21101.0</td>\n",
       "      <td>26.0</td>\n",
       "      <td>249.0</td>\n",
       "      <td>0.0</td>\n",
       "    </tr>\n",
       "    <tr>\n",
       "      <th>124338</th>\n",
       "      <td>124586.0</td>\n",
       "      <td>Female</td>\n",
       "      <td>24.0</td>\n",
       "      <td>1.0</td>\n",
       "      <td>8.0</td>\n",
       "      <td>1.0</td>\n",
       "      <td>&lt; 1 Year</td>\n",
       "      <td>1</td>\n",
       "      <td>0</td>\n",
       "      <td>30519.0</td>\n",
       "      <td>152.0</td>\n",
       "      <td>40.0</td>\n",
       "      <td>0.0</td>\n",
       "    </tr>\n",
       "    <tr>\n",
       "      <th>124339</th>\n",
       "      <td>124587.0</td>\n",
       "      <td>Male</td>\n",
       "      <td>24.0</td>\n",
       "      <td>1.0</td>\n",
       "      <td>36.0</td>\n",
       "      <td>1.0</td>\n",
       "      <td>&lt; 1 Year</td>\n",
       "      <td>1</td>\n",
       "      <td>0</td>\n",
       "      <td>32944.0</td>\n",
       "      <td>160.0</td>\n",
       "      <td>76.0</td>\n",
       "      <td>0.0</td>\n",
       "    </tr>\n",
       "    <tr>\n",
       "      <th>124340</th>\n",
       "      <td>124588.0</td>\n",
       "      <td>Male</td>\n",
       "      <td>43.0</td>\n",
       "      <td>1.0</td>\n",
       "      <td>28.0</td>\n",
       "      <td>0.0</td>\n",
       "      <td>1-2 Year</td>\n",
       "      <td>1</td>\n",
       "      <td>0</td>\n",
       "      <td>37560.0</td>\n",
       "      <td>124.0</td>\n",
       "      <td>18.0</td>\n",
       "      <td>0.0</td>\n",
       "    </tr>\n",
       "    <tr>\n",
       "      <th>124341</th>\n",
       "      <td>124589.0</td>\n",
       "      <td>Male</td>\n",
       "      <td>46.0</td>\n",
       "      <td>1.0</td>\n",
       "      <td>3.0</td>\n",
       "      <td>0.0</td>\n",
       "      <td>1-2 Year</td>\n",
       "      <td>0</td>\n",
       "      <td>1</td>\n",
       "      <td>2630.0</td>\n",
       "      <td>124.0</td>\n",
       "      <td>140.0</td>\n",
       "      <td>0.0</td>\n",
       "    </tr>\n",
       "  </tbody>\n",
       "</table>\n",
       "<p>124342 rows × 13 columns</p>\n",
       "</div>"
      ],
      "text/plain": [
       "        customer_id  Gender   Age  Driving_liscense_presence  region_code  \\\n",
       "0               1.0    Male  44.0                        1.0         28.0   \n",
       "1               2.0    Male  76.0                        1.0          3.0   \n",
       "2               3.0    Male  47.0                        1.0         28.0   \n",
       "3               4.0    Male  21.0                        1.0         11.0   \n",
       "4               5.0  Female  29.0                        1.0         41.0   \n",
       "...             ...     ...   ...                        ...          ...   \n",
       "124337     124585.0  Female  50.0                        1.0         13.0   \n",
       "124338     124586.0  Female  24.0                        1.0          8.0   \n",
       "124339     124587.0    Male  24.0                        1.0         36.0   \n",
       "124340     124588.0    Male  43.0                        1.0         28.0   \n",
       "124341     124589.0    Male  46.0                        1.0          3.0   \n",
       "\n",
       "        Previously_insure vehicle_age  No  Yes  annual premium (in Rs)  \\\n",
       "0                     0.0   > 2 Years   0    1                 40454.0   \n",
       "1                     0.0    1-2 Year   1    0                 33536.0   \n",
       "2                     0.0   > 2 Years   0    1                 38294.0   \n",
       "3                     1.0    < 1 Year   1    0                 28619.0   \n",
       "4                     1.0    < 1 Year   1    0                 27496.0   \n",
       "...                   ...         ...  ..  ...                     ...   \n",
       "124337                0.0    1-2 Year   0    1                 21101.0   \n",
       "124338                1.0    < 1 Year   1    0                 30519.0   \n",
       "124339                1.0    < 1 Year   1    0                 32944.0   \n",
       "124340                0.0    1-2 Year   1    0                 37560.0   \n",
       "124341                0.0    1-2 Year   0    1                  2630.0   \n",
       "\n",
       "        sales channel code  vintage  response  \n",
       "0                     26.0    217.0       1.0  \n",
       "1                     26.0    183.0       0.0  \n",
       "2                     26.0     27.0       1.0  \n",
       "3                    152.0    203.0       0.0  \n",
       "4                    152.0     39.0       0.0  \n",
       "...                    ...      ...       ...  \n",
       "124337                26.0    249.0       0.0  \n",
       "124338               152.0     40.0       0.0  \n",
       "124339               160.0     76.0       0.0  \n",
       "124340               124.0     18.0       0.0  \n",
       "124341               124.0    140.0       0.0  \n",
       "\n",
       "[124342 rows x 13 columns]"
      ]
     },
     "execution_count": 33,
     "metadata": {},
     "output_type": "execute_result"
    }
   ],
   "source": [
    "master_data = pd.merge(table1,table2,on='customer_id')\n",
    "\n",
    "master_data"
   ]
  },
  {
   "cell_type": "code",
   "execution_count": 34,
   "id": "a233acf3",
   "metadata": {},
   "outputs": [
    {
     "data": {
      "text/plain": [
       "Gender\n",
       "Female    29264.64400\n",
       "Male      29250.20045\n",
       "Name: annual premium (in Rs), dtype: float64"
      ]
     },
     "execution_count": 34,
     "metadata": {},
     "output_type": "execute_result"
    }
   ],
   "source": [
    "# getting required data for decisions\n",
    "#(i). Gender wise average annual premium\n",
    "gender_data = master_data.groupby('Gender')['annual premium (in Rs)'].mean()\n",
    "\n",
    "gender_data"
   ]
  },
  {
   "cell_type": "code",
   "execution_count": 72,
   "id": "e93922b8",
   "metadata": {},
   "outputs": [
    {
     "data": {
      "image/png": "[encoded data removed]",
      "text/plain": [
       "<Figure size 640x480 with 1 Axes>"
      ]
     },
     "metadata": {},
     "output_type": "display_data"
    }
   ],
   "source": [
    "gender_data.plot()\n",
    "plt.show()"
   ]
  },
  {
   "cell_type": "code",
   "execution_count": 36,
   "id": "bb02d46d",
   "metadata": {},
   "outputs": [
    {
     "data": {
      "text/plain": [
       "<AxesSubplot:title={'center':'Gender vs average annual premium'}, xlabel='Gender'>"
      ]
     },
     "execution_count": 36,
     "metadata": {},
     "output_type": "execute_result"
    }
   ],
   "source": [
    "gender_data.plot.bar(title='Gender vs average annual premium')"
   ]
  },
  {
   "cell_type": "code",
   "execution_count": 37,
   "id": "08e1d0db",
   "metadata": {},
   "outputs": [
    {
     "data": {
      "text/plain": [
       "Age\n",
       "20.0    26489.274885\n",
       "21.0    29531.966064\n",
       "22.0    29891.326299\n",
       "23.0    29755.194732\n",
       "24.0    30094.450316\n",
       "            ...     \n",
       "81.0    34318.899989\n",
       "82.0    29457.399955\n",
       "83.0    26574.571429\n",
       "84.0    37413.400000\n",
       "85.0    20490.333333\n",
       "Name: annual premium (in Rs), Length: 67, dtype: float64"
      ]
     },
     "execution_count": 37,
     "metadata": {},
     "output_type": "execute_result"
    }
   ],
   "source": [
    "#age wise average annual premium\n",
    "age_data = master_data.groupby('Age')['annual premium (in Rs)'].mean()\n",
    "\n",
    "age_data"
   ]
  },
  {
   "cell_type": "code",
   "execution_count": 70,
   "id": "86999f5a",
   "metadata": {},
   "outputs": [
    {
     "data": {
      "image/png": "[encoded data removed]",
      "text/plain": [
       "<Figure size 640x480 with 1 Axes>"
      ]
     },
     "metadata": {},
     "output_type": "display_data"
    }
   ],
   "source": [
    "age_data.plot(xlabel=\"Age\",ylabel=\"annual premium(in Rs)\",title=\"Age vs Average annual premium\")\n",
    "plt.show()"
   ]
  },
  {
   "cell_type": "code",
   "execution_count": 69,
   "id": "cee856f0",
   "metadata": {},
   "outputs": [
    {
     "data": {
      "image/png": "[encoded data removed]",
      "text/plain": [
       "<Figure size 640x480 with 1 Axes>"
      ]
     },
     "metadata": {},
     "output_type": "display_data"
    }
   ],
   "source": [
    "age_data.plot.bar()\n",
    "plt.show()"
   ]
  },
  {
   "cell_type": "code",
   "execution_count": 40,
   "id": "1c89dcf8",
   "metadata": {},
   "outputs": [
    {
     "data": {
      "text/html": [
       "<div>\n",
       "<style scoped>\n",
       "    .dataframe tbody tr th:only-of-type {\n",
       "        vertical-align: middle;\n",
       "    }\n",
       "\n",
       "    .dataframe tbody tr th {\n",
       "        vertical-align: top;\n",
       "    }\n",
       "\n",
       "    .dataframe thead th {\n",
       "        text-align: right;\n",
       "    }\n",
       "</style>\n",
       "<table border=\"1\" class=\"dataframe\">\n",
       "  <thead>\n",
       "    <tr style=\"text-align: right;\">\n",
       "      <th></th>\n",
       "      <th>customer_id</th>\n",
       "      <th>Age</th>\n",
       "      <th>Driving_liscense_presence</th>\n",
       "      <th>region_code</th>\n",
       "      <th>Previously_insure</th>\n",
       "      <th>vehicle_age</th>\n",
       "      <th>No</th>\n",
       "      <th>Yes</th>\n",
       "      <th>annual premium (in Rs)</th>\n",
       "      <th>sales channel code</th>\n",
       "      <th>vintage</th>\n",
       "      <th>response</th>\n",
       "    </tr>\n",
       "    <tr>\n",
       "      <th>Gender</th>\n",
       "      <th></th>\n",
       "      <th></th>\n",
       "      <th></th>\n",
       "      <th></th>\n",
       "      <th></th>\n",
       "      <th></th>\n",
       "      <th></th>\n",
       "      <th></th>\n",
       "      <th></th>\n",
       "      <th></th>\n",
       "      <th></th>\n",
       "      <th></th>\n",
       "    </tr>\n",
       "  </thead>\n",
       "  <tbody>\n",
       "    <tr>\n",
       "      <th>Female</th>\n",
       "      <td>57206</td>\n",
       "      <td>57206</td>\n",
       "      <td>57206</td>\n",
       "      <td>57206</td>\n",
       "      <td>57206</td>\n",
       "      <td>57157</td>\n",
       "      <td>57206</td>\n",
       "      <td>57206</td>\n",
       "      <td>57206</td>\n",
       "      <td>57206</td>\n",
       "      <td>57206</td>\n",
       "      <td>57206</td>\n",
       "    </tr>\n",
       "    <tr>\n",
       "      <th>Male</th>\n",
       "      <td>67027</td>\n",
       "      <td>67027</td>\n",
       "      <td>67027</td>\n",
       "      <td>67027</td>\n",
       "      <td>67027</td>\n",
       "      <td>66968</td>\n",
       "      <td>67027</td>\n",
       "      <td>67027</td>\n",
       "      <td>67027</td>\n",
       "      <td>67027</td>\n",
       "      <td>67027</td>\n",
       "      <td>67027</td>\n",
       "    </tr>\n",
       "  </tbody>\n",
       "</table>\n",
       "</div>"
      ],
      "text/plain": [
       "        customer_id    Age  Driving_liscense_presence  region_code  \\\n",
       "Gender                                                               \n",
       "Female        57206  57206                      57206        57206   \n",
       "Male          67027  67027                      67027        67027   \n",
       "\n",
       "        Previously_insure  vehicle_age     No    Yes  annual premium (in Rs)  \\\n",
       "Gender                                                                         \n",
       "Female              57206        57157  57206  57206                   57206   \n",
       "Male                67027        66968  67027  67027                   67027   \n",
       "\n",
       "        sales channel code  vintage  response  \n",
       "Gender                                         \n",
       "Female               57206    57206     57206  \n",
       "Male                 67027    67027     67027  "
      ]
     },
     "execution_count": 40,
     "metadata": {},
     "output_type": "execute_result"
    }
   ],
   "source": [
    "# Checking Balanced between gender or not\n",
    "master_data.groupby('Gender').count()\n"
   ]
  },
  {
   "cell_type": "code",
   "execution_count": 41,
   "id": "703e51d2",
   "metadata": {},
   "outputs": [
    {
     "data": {
      "text/plain": [
       "vehicle_age\n",
       "1-2 Year     29044.236626\n",
       "< 1 Year     29126.367872\n",
       "> 2 Years    33193.555842\n",
       "Name: annual premium (in Rs), dtype: float64"
      ]
     },
     "execution_count": 41,
     "metadata": {},
     "output_type": "execute_result"
    }
   ],
   "source": [
    "#Vehicle age wise average annual premium\n",
    "vehicle_age = master_data.groupby('vehicle_age')['annual premium (in Rs)'].mean()\n",
    "\n",
    "vehicle_age\n",
    " "
   ]
  },
  {
   "cell_type": "code",
   "execution_count": 65,
   "id": "9b46055b",
   "metadata": {},
   "outputs": [
    {
     "data": {
      "image/png": "[encoded data removed]",
      "text/plain": [
       "<Figure size 640x480 with 1 Axes>"
      ]
     },
     "metadata": {},
     "output_type": "display_data"
    }
   ],
   "source": [
    "vehicle_age.plot()\n",
    "plt.show()"
   ]
  },
  {
   "cell_type": "code",
   "execution_count": 68,
   "id": "1a14268d",
   "metadata": {},
   "outputs": [
    {
     "data": {
      "image/png": "[encoded data removed]",
      "text/plain": [
       "<Figure size 640x480 with 1 Axes>"
      ]
     },
     "metadata": {},
     "output_type": "display_data"
    }
   ],
   "source": [
    "vehicle_age.plot.bar()\n",
    "plt.show()"
   ]
  },
  {
   "cell_type": "code",
   "execution_count": 67,
   "id": "c27da9f4",
   "metadata": {},
   "outputs": [
    {
     "data": {
      "text/plain": [
       "0.05561851390796275"
      ]
     },
     "execution_count": 67,
     "metadata": {},
     "output_type": "execute_result"
    }
   ],
   "source": [
    "''' Correlation between age and annual premuim\n",
    "Pearson Correlation\n",
    "The Pearson Correlation measures the linear dependence between two variables X and Y.'''\n",
    "# finding the correlation coefficient in pandas\n",
    "\n",
    "master_data['Age'].corr(master_data['annual premium (in Rs)'])"
   ]
  },
  {
   "cell_type": "code",
   "execution_count": 56,
   "id": "849099b2",
   "metadata": {},
   "outputs": [
    {
     "data": {
      "text/html": [
       "<div>\n",
       "<style scoped>\n",
       "    .dataframe tbody tr th:only-of-type {\n",
       "        vertical-align: middle;\n",
       "    }\n",
       "\n",
       "    .dataframe tbody tr th {\n",
       "        vertical-align: top;\n",
       "    }\n",
       "\n",
       "    .dataframe thead th {\n",
       "        text-align: right;\n",
       "    }\n",
       "</style>\n",
       "<table border=\"1\" class=\"dataframe\">\n",
       "  <thead>\n",
       "    <tr style=\"text-align: right;\">\n",
       "      <th></th>\n",
       "      <th>Age</th>\n",
       "      <th>annual premium (in Rs)</th>\n",
       "    </tr>\n",
       "  </thead>\n",
       "  <tbody>\n",
       "    <tr>\n",
       "      <th>Age</th>\n",
       "      <td>1.000000</td>\n",
       "      <td>0.055619</td>\n",
       "    </tr>\n",
       "    <tr>\n",
       "      <th>annual premium (in Rs)</th>\n",
       "      <td>0.055619</td>\n",
       "      <td>1.000000</td>\n",
       "    </tr>\n",
       "  </tbody>\n",
       "</table>\n",
       "</div>"
      ],
      "text/plain": [
       "                             Age  annual premium (in Rs)\n",
       "Age                     1.000000                0.055619\n",
       "annual premium (in Rs)  0.055619                1.000000"
      ]
     },
     "execution_count": 56,
     "metadata": {},
     "output_type": "execute_result"
    }
   ],
   "source": [
    "# Matrix form of correlation\n",
    "\n",
    "master_data[['Age','annual premium (in Rs)']].corr()\n",
    "#Since the Pearson coefficient lies between 0.5 and -.5, So no relation between age and annual premium"
   ]
  },
  {
   "cell_type": "code",
   "execution_count": null,
   "id": "5cb11963",
   "metadata": {},
   "outputs": [],
   "source": []
  }
 ],
 "metadata": {
  "kernelspec": {
   "display_name": "Python 3 (ipykernel)",
   "language": "python",
   "name": "python3"
  },
  "language_info": {
   "codemirror_mode": {
    "name": "ipython",
    "version": 3
   },
   "file_extension": ".py",
   "mimetype": "text/x-python",
   "name": "python",
   "nbconvert_exporter": "python",
   "pygments_lexer": "ipython3",
   "version": "3.9.13"
  }
 },
 "nbformat": 4,
 "nbformat_minor": 5
}
